{
 "cells": [
  {
   "cell_type": "markdown",
   "id": "fb998086",
   "metadata": {},
   "source": [
    "## Task 2"
   ]
  },
  {
   "cell_type": "markdown",
   "id": "c6f6627d",
   "metadata": {},
   "source": [
    "На складе лежат разные фрукты в разном количестве.\n",
    "Нужно написать функцию, которая на вход принимает любое количество названий фруктов и их количество, а возвращает общее количество фруктов на складе"
   ]
  },
  {
   "cell_type": "code",
   "execution_count": 24,
   "id": "6969e46a",
   "metadata": {},
   "outputs": [],
   "source": [
    "import numpy  as np\n",
    "    "
   ]
  },
  {
   "cell_type": "code",
   "execution_count": 27,
   "id": "308edf53",
   "metadata": {},
   "outputs": [],
   "source": [
    "def fruits_counter(**kwargs):\n",
    "    fruits_count = np.array([kwargs[key] for key in kwargs.keys()])\n",
    "    return np.sum(fruits_count)"
   ]
  },
  {
   "cell_type": "code",
   "execution_count": 30,
   "id": "220d69a1",
   "metadata": {},
   "outputs": [
    {
     "name": "stdout",
     "output_type": "stream",
     "text": [
      "9\n"
     ]
    }
   ],
   "source": [
    "d = {'r':2, 't':3, 'y':4}\n",
    "print(fruits_counter(**d))"
   ]
  },
  {
   "cell_type": "markdown",
   "id": "b809d6e9",
   "metadata": {},
   "source": [
    "## Task 3"
   ]
  },
  {
   "cell_type": "markdown",
   "id": "8f5343a2",
   "metadata": {},
   "source": [
    "Дан список с затратами на рекламу. Но в данных есть ошибки, некоторые затраты имеют отрицательную величину. Удалите такие значения из списка и посчитайте суммарные затраты\n",
    "[100, 125, -90, 345, 655, -1, 0, 200]\n",
    "Используйте list comprehensions"
   ]
  },
  {
   "cell_type": "code",
   "execution_count": 31,
   "id": "f132c520",
   "metadata": {},
   "outputs": [],
   "source": [
    "costs =  [100, 125, -90, 345, 655, -1, 0, 200] "
   ]
  },
  {
   "cell_type": "code",
   "execution_count": 35,
   "id": "d45ff5ee",
   "metadata": {},
   "outputs": [],
   "source": [
    "general_cost = np.array([i if i > 0 else 0 for i in costs])"
   ]
  },
  {
   "cell_type": "code",
   "execution_count": 36,
   "id": "bdc8fec1",
   "metadata": {},
   "outputs": [
    {
     "name": "stdout",
     "output_type": "stream",
     "text": [
      "1425\n"
     ]
    }
   ],
   "source": [
    "print(np.sum(general_cost))"
   ]
  },
  {
   "cell_type": "markdown",
   "id": "c2f59600",
   "metadata": {},
   "source": [
    "## Task 4"
   ]
  },
  {
   "cell_type": "markdown",
   "id": "1546dae2",
   "metadata": {},
   "source": [
    "Даны два списка. <br>\n",
    "Дата покупки <br>\n",
    "['2021-09-14', '2021-12-15', '2021-09-08', '2021-12-05', '2021-10-09', '2021-09-30', '2021-12-22', '2021-11-29', '2021-12-24', '2021-11-26', '2021-10-27', '2021-12-18', '2021-11-09', '2021-11-23', '2021-09-27', '2021-10-02', '2021-12-27', '2021-09-20', '2021-12-13', '2021-11-01', '2021-11-09', '2021-12-06', '2021-12-08', '2021-10-09', '2021-10-31', '2021-09-30', '2021-11-09', '2021-12-13', '2021-10-26', '2021-12-09']\n",
    "<br>Суммы покупок по датам <br>\n",
    "[1270, 8413, 9028, 3703, 5739, 4095, 295, 4944, 5723, 3701, 4471, 651, 7037, 4274, 6275, 4988, 6930, 2971, 6592, 2004, 2822, 519, 3406, 2732, 5015, 2008, 316, 6333, 5700, 2887]"
   ]
  },
  {
   "cell_type": "markdown",
   "id": "1f376806",
   "metadata": {},
   "source": [
    "### 4.1\n",
    "Найдите, какая выручка у компании в ноябре/ Используйте list comprehensions"
   ]
  },
  {
   "cell_type": "code",
   "execution_count": 1,
   "id": "fd8935af",
   "metadata": {},
   "outputs": [],
   "source": [
    "purchase_dates = ['2021-09-14', '2021-12-15', '2021-09-08', '2021-12-05', '2021-10-09', '2021-09-30', '2021-12-22', '2021-11-29', '2021-12-24', '2021-11-26', '2021-10-27', '2021-12-18', '2021-11-09', '2021-11-23', '2021-09-27', '2021-10-02', '2021-12-27', '2021-09-20', '2021-12-13', '2021-11-01', '2021-11-09', '2021-12-06', '2021-12-08', '2021-10-09', '2021-10-31', '2021-09-30', '2021-11-09', '2021-12-13', '2021-10-26', '2021-12-09']\n",
    "purchases_costs = [1270, 8413, 9028, 3703, 5739, 4095, 295, 4944, 5723, 3701, 4471, 651, 7037, 4274, 6275, 4988, 6930, 2971, 6592, 2004, 2822, 519, 3406, 2732, 5015, 2008, 316, 6333, 5700, 2887]"
   ]
  },
  {
   "cell_type": "code",
   "execution_count": 2,
   "id": "1985904b",
   "metadata": {},
   "outputs": [],
   "source": [
    "def november_revenue(list1, list2):\n",
    "    revenue = [list2[i] for i in range(len(list2)) if list1[i].split('-')[1] == '11']\n",
    "    print(revenue)"
   ]
  },
  {
   "cell_type": "code",
   "execution_count": 3,
   "id": "19c866b5",
   "metadata": {},
   "outputs": [
    {
     "name": "stdout",
     "output_type": "stream",
     "text": [
      "[4944, 3701, 7037, 4274, 2004, 2822, 316]\n"
     ]
    }
   ],
   "source": [
    "november_revenue(purchase_dates, purchases_costs)"
   ]
  },
  {
   "cell_type": "markdown",
   "id": "82168e3d",
   "metadata": {},
   "source": [
    "### 4.2\n",
    "Найдите выручку компании в зависимости от месяца. Для этого напишите функцию, которая на вход принимает список с датами и список с выручкой, а на выходе словарь, где ключи - это месяцы, а значения - это выручка.\n",
    "Используйте аннотирование типов."
   ]
  },
  {
   "cell_type": "code",
   "execution_count": 15,
   "id": "87a51811",
   "metadata": {},
   "outputs": [],
   "source": [
    "def month_revenue(list1: list, list2: list)->dict:\n",
    "    month_revenue = {'01': 0,'02':0,'03':0,'04':0,'05':0,'06':0,'07':0,'08':0,'09':0,'10':0,'11':0,'12':0}\n",
    "    for i in range(len(list1)):\n",
    "        if (list1[i].split('-')[1] in month_revenue):\n",
    "            month_revenue[list1[i].split('-')[1]] = month_revenue[list1[i].split('-')[1]] + list2[i]\n",
    "    return month_revenue\n"
   ]
  },
  {
   "cell_type": "code",
   "execution_count": 16,
   "id": "db24b1d6",
   "metadata": {},
   "outputs": [
    {
     "data": {
      "text/plain": [
       "{'01': 0,\n",
       " '02': 0,\n",
       " '03': 0,\n",
       " '04': 0,\n",
       " '05': 0,\n",
       " '06': 0,\n",
       " '07': 0,\n",
       " '08': 0,\n",
       " '09': 25647,\n",
       " '10': 28645,\n",
       " '11': 25098,\n",
       " '12': 45452}"
      ]
     },
     "execution_count": 16,
     "metadata": {},
     "output_type": "execute_result"
    }
   ],
   "source": [
    "month_revenue(purchase_dates, purchases_costs)"
   ]
  }
 ],
 "metadata": {
  "kernelspec": {
   "display_name": "Python 3 (ipykernel)",
   "language": "python",
   "name": "python3"
  },
  "language_info": {
   "codemirror_mode": {
    "name": "ipython",
    "version": 3
   },
   "file_extension": ".py",
   "mimetype": "text/x-python",
   "name": "python",
   "nbconvert_exporter": "python",
   "pygments_lexer": "ipython3",
   "version": "3.10.9"
  }
 },
 "nbformat": 4,
 "nbformat_minor": 5
}
